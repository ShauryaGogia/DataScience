{
 "cells": [
  {
   "cell_type": "markdown",
   "metadata": {
    "colab_type": "text",
    "id": "x-m4bZXc70Uo"
   },
   "source": [
    "# COMP47670 - Data Science in Python (MD)\n",
    "NAME - SHAURYA GOGIA (19200891)"
   ]
  },
  {
   "cell_type": "markdown",
   "metadata": {
    "colab_type": "text",
    "id": "N3WSEj4G8QRe"
   },
   "source": [
    "## Introduction\n",
    "\n",
    "\n",
    ">**Data is collected from Zomato**. Zomato is an Indian restaurant aggregator and food delivery start up founded by Deepinder Goyal in 2008.\n",
    "\n",
    "> As of 2019, the service is available in 24 countries and in more than 10,000 cities. \n",
    "\n",
    "> Zomato provides information, menus and user-reviews of restaurants, and also has food delivery options from partner restaurants in select cities. They provide restaurants details which offer variety of cuisines and have special highlights (Bar, Wifi, Pet friendly, Smoking area, Indoor/Outdoor seating area)\n",
    "\n",
    "> This API was choosen to extract meaningful information about different restaurants in 15 countries. Restaurant details are extracted for capital city of these 15 countries. \n",
    "\n",
    "> (Source - https://en.wikipedia.org/wiki/Zomato)"
   ]
  },
  {
   "cell_type": "markdown",
   "metadata": {
    "colab_type": "text",
    "id": "B-EVI5Lt-mkz"
   },
   "source": [
    "## Dataset Description \n",
    "\n",
    "> Data is collected from Zomato API (https://developers.zomato.com/documentation).\n",
    "\n",
    "Data is collected from 3 API's -\n",
    "*   To get City ID of chosen cities, **/cities Zomato API** is used. The city IDs are used in the APIs ahead.\n",
    "*   For each city, **/search Zomato API** is used to get the essential restaurant details in that city. As per the API restrictions, details of 100 restaurants for each city are extracted.   \n",
    "*   For each restaurant, **/reviews Zomato API** is used to extract reviews. As per the API restrictions, upto 10 reviews are extracted for each restaurant.\n",
    "\n",
    "Following Restaurant Details attributes are used - \n",
    "\n",
    "1. **id -**Unique ID of restaurant\n",
    "2. **name -** Restaurant name\n",
    "3. **city -** Restuarant city\n",
    "4. **cuisines -** List of cuisines offered\n",
    "5. **timings -** Restaurant timings\n",
    "6. **average_cost_for_two -** Average cost for 2 people to have food in that restaurant\n",
    "7. **price_range -** Price range compared to respective city\n",
    "8. **highlights -** Additional perks offered\n",
    "9. **aggregate_rating -** Aggregate ratings \n",
    "10. **all_reviews_count -** Total number of reviews provided \n",
    "11. **photo_count -** Total photos added\n",
    "12. **has_online_delivery -** Whether restuarant has Online Delivery avaialable\n",
    "13. **store_type -** Type of Store\n",
    "14. **include_bogo_offers -** Has offers  \n",
    "15. **is_table_reservation_supported -** Has the option of reserving table \n",
    "\n",
    "\n",
    "*   For each restaurant **/reviews Zomato API** is used to get restaurant reviews \n",
    "\n",
    "Following Review Details attributes are used -\n",
    "\n",
    "1. **id -** Unique ID of restaurant\n",
    "2. **name -** Restaurant name\n",
    "3. **city -** Restuarant city\n",
    "4. **rating -** Rating provided in the individual review\n",
    "5. **review_text -** Text provided in review\n",
    "6. **review_time_friendly -** Time at which review was provided \n",
    "7. **likes -** Total likes provided on the particular review\n",
    "8. **name -** Name of reviewer\n",
    "9. **foodie_level -** Zomato has set some levels for foodie (Example - Super foodie)\n"
   ]
  },
  {
   "cell_type": "markdown",
   "metadata": {
    "colab_type": "text",
    "id": "DHy_tXhDVWwh"
   },
   "source": [
    "## Importing relevant packages"
   ]
  },
  {
   "cell_type": "code",
   "execution_count": 0,
   "metadata": {
    "colab": {},
    "colab_type": "code",
    "id": "DlrxTGeRUD2w"
   },
   "outputs": [],
   "source": [
    "import numpy as np\n",
    "import pandas as pd\n",
    "import requests\n",
    "import csv, time\n",
    "from collections import OrderedDict\n",
    "import matplotlib.pyplot as plt\n",
    "from wordcloud import WordCloud, STOPWORDS\n",
    "import seaborn as sns"
   ]
  },
  {
   "cell_type": "markdown",
   "metadata": {
    "colab_type": "text",
    "id": "YX8fe_WmVyes"
   },
   "source": [
    "## Data Gathering and Collection"
   ]
  },
  {
   "cell_type": "markdown",
   "metadata": {
    "colab_type": "text",
    "id": "zCUo1gRvWzF0"
   },
   "source": [
    "Data is gathered using the below keys - "
   ]
  },
  {
   "cell_type": "code",
   "execution_count": 0,
   "metadata": {
    "colab": {},
    "colab_type": "code",
    "id": "rsTfKr6cWs_7"
   },
   "outputs": [],
   "source": [
    "# API Key used\n",
    "api_key = \"8b437481731f34398dfb8a546b600eea\"\n",
    "user_key = api_key\n",
    "header = {\"user-key\": user_key, \"Accept\": \"application/json\"}"
   ]
  },
  {
   "cell_type": "code",
   "execution_count": 0,
   "metadata": {
    "colab": {},
    "colab_type": "code",
    "id": "S7xBKFkoXc97"
   },
   "outputs": [],
   "source": [
    "# Function to convert list object into string (to be used later)\n",
    "def listToString(lst):\n",
    "  str1 = \"\"\n",
    "  for i in range(0,len(lst)):\n",
    "    if i == len(lst) - 1:\n",
    "      str1 += lst[i]\n",
    "    else:\n",
    "      str1 += lst[i] + \", \"\n",
    "  return str1"
   ]
  },
  {
   "cell_type": "code",
   "execution_count": 0,
   "metadata": {
    "colab": {},
    "colab_type": "code",
    "id": "XZKDzhx7ZVbY"
   },
   "outputs": [],
   "source": [
    "''' Function to get the essential restaurant details from the /search Zomato API. '''\n",
    "\n",
    "def get_restaurant_details(response, city, file1, file2, col_names1, col_names2):\n",
    "  for entry in response:\n",
    "    print(\"restaurant_id: \" + str(entry['restaurant']['id']))\n",
    "    entry_file1 = {}\n",
    "    for key in col_names1:\n",
    "      if key == 'highlights':\n",
    "        entry_file1[key] = listToString(entry['restaurant']['highlights'])\n",
    "      elif key == 'city':\n",
    "        entry_file1[key] = city\n",
    "      elif key in entry['restaurant'].keys():\n",
    "        entry_file1[key] = entry['restaurant'][key]\n",
    "      elif key in entry['restaurant']['location'].keys():\n",
    "        entry_file1[key] = entry['restaurant']['location'][key]\n",
    "      elif key in entry['restaurant']['user_rating'].keys():\n",
    "        entry_file1[key] = entry['restaurant']['user_rating'][key]\n",
    "      else:\n",
    "        entry_file1[key] = ''\n",
    "    write_row(file1, entry_file1.values())\n",
    "    restaurant_id = entry['restaurant']['id']\n",
    "    restaurant_name = entry['restaurant']['name']\n",
    "    start = 0\n",
    "    for i in range(0,2):\n",
    "      url_reviews = \"https://developers.zomato.com/api/v2.1/reviews?res_id=\" + str(restaurant_id) + \"&start=\" + str(start)\n",
    "      print(url_reviews)\n",
    "      time.sleep(2)\n",
    "      response_reviews = requests.get(url_reviews, headers = header).json()\n",
    "      get_review_details(response_reviews['user_reviews'], restaurant_id, restaurant_name, city, file2, col_names2)\n",
    "      start += 5"
   ]
  },
  {
   "cell_type": "code",
   "execution_count": 0,
   "metadata": {
    "colab": {},
    "colab_type": "code",
    "id": "fDHJxpexZZnR"
   },
   "outputs": [],
   "source": [
    "'''Function to get the essential review details from the /review API.'''\n",
    "\n",
    "def get_review_details(response, res_id, res_name, city, file, col_names):\n",
    "  for entry in response:\n",
    "    print(\"review id: \" + str(entry['review']['id']) + \", res_id: \" + str(res_id))\n",
    "    entry_file = {}\n",
    "    for key in col_names:\n",
    "      if key == 'city':\n",
    "        entry_file[key] = city\n",
    "      elif key == 'id':\n",
    "        entry_file[key] = res_id\n",
    "      elif key == 'res_name':\n",
    "        entry_file[key] = res_name\n",
    "      elif key in entry['review'].keys():\n",
    "        entry_file[key] = entry['review'][key]\n",
    "      elif key in entry['review']['user'].keys():\n",
    "        entry_file[key] = entry['review']['user'][key]\n",
    "      else:\n",
    "        entry_file[key] = ''\n",
    "    write_row(file, entry_file.values())"
   ]
  },
  {
   "cell_type": "code",
   "execution_count": 0,
   "metadata": {
    "colab": {},
    "colab_type": "code",
    "id": "CE4AUQIGZdwG"
   },
   "outputs": [],
   "source": [
    "''' Function to create a file with the respective column names\n",
    "'''\n",
    "def create_file(file, col_names): \n",
    "  with open(file, \"w\", newline='') as write_file: #as in get_and_write_data function \n",
    "    f = csv.writer(write_file)\n",
    "    f.writerow(col_names)\n",
    "  write_file.close()"
   ]
  },
  {
   "cell_type": "code",
   "execution_count": 0,
   "metadata": {
    "colab": {},
    "colab_type": "code",
    "id": "yfUOxZt9ZfKp"
   },
   "outputs": [],
   "source": [
    "''' First function to start writing the results from the API into files.\n",
    "    It invokes the /search Zomato API to get restaurant details.\n",
    "    It then calls 'get_restaurant_details' function to get essential restaurant details.\n",
    "'''\n",
    "def write_file(city_ids, city_map, file1, file2, col_names1, col_names2):\n",
    "  for city in city_ids:\n",
    "    print(\"Current city : \", city_map[city_ids])\n",
    "    start = 0\n",
    "    for i in range(0,5):\n",
    "      url_restaurants = \"https://developers.zomato.com/api/v2.1/search?entity_id=\" + str(city_ids) + \"&entity_type=city&start=\" + str(start) + \"&count=20\"\n",
    "      print(url_restaurants)\n",
    "      time.sleep(2)\n",
    "      response_restaurants = requests.get(url_restaurants, headers = header).json()\n",
    "      restaurant_numbers.add(city_map[city_ids] + \",\" + str(response_restaurants['results_found']))\n",
    "      get_restaurant_details(response_restaurants['restaurants'], city_map[city_ids], file1, file2, col_names1, col_names2)\n",
    "      start += 20"
   ]
  },
  {
   "cell_type": "code",
   "execution_count": 0,
   "metadata": {
    "colab": {},
    "colab_type": "code",
    "id": "LH6GWtDQZisc"
   },
   "outputs": [],
   "source": [
    "''' Function to write the file row by row.\n",
    "    It is called from the 'get_restaurant_details' and 'get_review_details' functions.\n",
    "'''\n",
    "def write_row(file, response):\n",
    "  with open(file, \"a\", newline='') as write_file:\n",
    "    f = csv.writer(write_file)\n",
    "    f.writerow(response)\n",
    "  write_file.close()"
   ]
  },
  {
   "cell_type": "code",
   "execution_count": 0,
   "metadata": {
    "colab": {},
    "colab_type": "code",
    "id": "ywFTHc-QZk83"
   },
   "outputs": [],
   "source": [
    "''' All the required variables are initialised with the values\n",
    "'''\n",
    "# API names for the essential columns\n",
    "col_names_response_restaurant = [\"id\", \"name\", \"city\", \"cuisines\", \"timings\", \"average_cost_for_two\", \"price_range\", \"highlights\", \"aggregate_rating\", \"all_reviews_count\", \"photo_count\", \"has_online_delivery\", \"store_type\", \"include_bogo_offers\", \"is_table_reservation_supported\"]\n",
    "# Excel essential column names\n",
    "col_names_restaurant_details = [\"Restaurant ID\", \"Restaurant Name\", \"City\", \"Cuisines\", \"Timings\", \"Average Cost for Two\", \"Price Range\", \"Highlights\", \"Aggregate Rating\", \"Reviews Count\", \"Photos Count\", \"Online Delivery\", \"Store Type\", \"Bogo Offers\", \"Table Reservation\"]\n",
    "# API names for the essential columns\n",
    "col_names_response_review = [\"id\", \"res_name\", \"city\", \"rating\", \"review_text\", \"review_time_friendly\", \"likes\", \"name\", \"foodie_level\"]\n",
    "# Excel essential column names\n",
    "col_names_review_details = [\"Restaurant ID\", \"Restaurant Name\", \"City\", \"Restaurant Rating\", \"Review Text\", \"Review Time\", \"Likes\", \"User Name\", \"User Foodie Level\"]\n",
    "\n",
    "# Cities for which Zomato data is to be collected\n",
    "cities = [\"Dublin\", \"Canberra\", \"Ottawa\", \"Prague\", \"Delhi\", \"Rome\", \"Wellington\", \"Warsaw\", \"Lisbon\", \"Singapore\", \"Abu Dhabi\", \"London\", \"Washington\", \"Edinburgh\", \"Belfast\"]\n",
    "\n",
    "# A dictionary/map to store cities as key and their respective countries as values\n",
    "country_city_dict = {\"Dublin\": \"Republic of Ireland\", \"Canberra\": \"Australia\", \"Ottawa\": \"Canada\", \"Prague\": \"Czech Republic\", \"Delhi\": \"India\", \"Rome\": \"Italy\", \"Wellington\": \"New Zealand\", \"Warsaw\": \"Poland\", \"Lisbon\": \"Portugal\", \"Singapore\": \"Singapore\", \"Abu Dhabi\": \"United Arab Emirates\", \"London\": \"England\", \"Washington\": \"United States of America\", \"Edinburgh\": \"Sctoland\", \"Belfast\": \"Northern Ireland\"}\n",
    "\n",
    "# Initialized a set to store count of restaurants. Entries will be added in the 'get_restaurant_details' function.\n",
    "restaurant_numbers = set()"
   ]
  },
  {
   "cell_type": "code",
   "execution_count": 0,
   "metadata": {
    "colab": {},
    "colab_type": "code",
    "id": "bFTpPkQkZo3k"
   },
   "outputs": [],
   "source": [
    "''' Calls the /cities Zomato API for each city in the 'cities' list to get the respective city ID.\n",
    "'''\n",
    "# Initialized a list to store the city IDs\n",
    "city_ids = []\n",
    "# Initialised a dictionary to store city ID as key and its respective city as value\n",
    "city_id_city_map = {}\n",
    "\n",
    "# Iterates through every city in the 'cities' list and calls the /cities Zomato API\n",
    "for city in cities:\n",
    "    url = \"https://developers.zomato.com/api/v2.1/cities?q=\" + city\n",
    "    city_request = requests.get(url, headers = header)\n",
    "    response = city_request.json()\n",
    "    city_id = response['location_suggestions'][0]['id']\n",
    "    city_ids.append(city_id)\n",
    "    city_id_city_map[city_id] = city"
   ]
  },
  {
   "cell_type": "markdown",
   "metadata": {
    "colab_type": "text",
    "id": "oOfpPhe849A1"
   },
   "source": [
    "Creating 2 files for restaurant details and reveiw details "
   ]
  },
  {
   "cell_type": "code",
   "execution_count": 0,
   "metadata": {
    "colab": {},
    "colab_type": "code",
    "id": "K8yxteLWaUJy"
   },
   "outputs": [],
   "source": [
    "''' Calls the functions to start gathering the data.\n",
    "    First files 'restaurant_details.csv' and 'review_details.csv' are created.\n",
    "    Then the 'write_file' function is called to start writing results into the files\n",
    "'''\n",
    "create_file(\"restaurant_details.csv\", col_names_restaurant_details)\n",
    "create_file(\"review_details.csv\", col_names_review_details)\n",
    "write_file(city_ids, city_id_city_map, \"restaurant_details.csv\", \"review_details.csv\", col_names_response_restaurant, col_names_response_review)"
   ]
  },
  {
   "cell_type": "markdown",
   "metadata": {
    "colab_type": "text",
    "id": "C0Cx6DR2amjN"
   },
   "source": [
    "Using the above code, 2 files have been created -\n",
    "\n",
    "\n",
    "*   restaurant_details.csv\n",
    "*   review_details.csv\n",
    "\n"
   ]
  },
  {
   "cell_type": "markdown",
   "metadata": {
    "colab_type": "text",
    "id": "njjFHC6PbCTp"
   },
   "source": [
    "## Reading \"restaurant_details.csv\" file"
   ]
  },
  {
   "cell_type": "code",
   "execution_count": 0,
   "metadata": {
    "colab": {},
    "colab_type": "code",
    "id": "3NOQzavcawSP"
   },
   "outputs": [],
   "source": [
    "#Created to handle any missing values and filling them afterwards\n",
    "missing_values = ['{}', '', 'nan'] \n",
    "restaurant_details = pd.read_csv(\"restaurant_details.csv\", na_values = missing_values)\n",
    "\n",
    "#Analyzing restaurant dataset\n",
    "restaurant_details"
   ]
  },
  {
   "cell_type": "markdown",
   "metadata": {
    "colab_type": "text",
    "id": "Zu5WSduHerNJ"
   },
   "source": [
    "## Reading \"review_details.csv\" file"
   ]
  },
  {
   "cell_type": "code",
   "execution_count": 0,
   "metadata": {
    "colab": {},
    "colab_type": "code",
    "id": "33CCfavle7m7"
   },
   "outputs": [],
   "source": [
    "# Created to handle any missing values and filling them afterwards\n",
    "missing_values = ['{}', '', 'nan'] \n",
    "review_details = pd.read_csv(\"review_details.csv\", na_values = missing_values)\n",
    "\n",
    "#Analyzing reviews dataset\n",
    "review_details"
   ]
  },
  {
   "cell_type": "markdown",
   "metadata": {
    "colab_type": "text",
    "id": "2xv3ri8eSheI"
   },
   "source": [
    "## Essential code (present above which was used for collecting data) to run the below steps\n",
    "\n",
    "Needed only if data gathering has been skipped"
   ]
  },
  {
   "cell_type": "code",
   "execution_count": 0,
   "metadata": {
    "colab": {},
    "colab_type": "code",
    "id": "-sBJjrd_Sxi3"
   },
   "outputs": [],
   "source": [
    "# Function to convert list object into string\n",
    "def listToString(lst):\n",
    "  str1 = \"\"\n",
    "  for i in range(0,len(lst)):\n",
    "    if i == len(lst) - 1:\n",
    "      str1 += lst[i]\n",
    "    else:\n",
    "      str1 += lst[i] + \", \"\n",
    "  return str1"
   ]
  },
  {
   "cell_type": "code",
   "execution_count": 0,
   "metadata": {
    "colab": {},
    "colab_type": "code",
    "id": "CbvpvjEqS1CM"
   },
   "outputs": [],
   "source": [
    "''' All the required variables are initialised with the values\n",
    "'''\n",
    "# API names for the essential columns\n",
    "col_names_response_restaurant = [\"id\", \"name\", \"city\", \"cuisines\", \"timings\", \"average_cost_for_two\", \"price_range\", \"highlights\", \"aggregate_rating\", \"all_reviews_count\", \"photo_count\", \"has_online_delivery\", \"store_type\", \"include_bogo_offers\", \"is_table_reservation_supported\"]\n",
    "# Excel essential column names\n",
    "col_names_restaurant_details = [\"Restaurant ID\", \"Restaurant Name\", \"City\", \"Cuisines\", \"Timings\", \"Average Cost for Two\", \"Price Range\", \"Highlights\", \"Aggregate Rating\", \"Reviews Count\", \"Photos Count\", \"Online Delivery\", \"Store Type\", \"Bogo Offers\", \"Table Reservation\"]\n",
    "# API names for the essential columns\n",
    "col_names_response_review = [\"id\", \"res_name\", \"city\", \"rating\", \"review_text\", \"review_time_friendly\", \"likes\", \"name\", \"foodie_level\"]\n",
    "# Excel essential column names\n",
    "col_names_review_details = [\"Restaurant ID\", \"Restaurant Name\", \"City\", \"Restaurant Rating\", \"Review Text\", \"Review Time\", \"Likes\", \"User Name\", \"User Foodie Level\"]\n",
    "\n",
    "# Cities for which Zomato data is to be collected\n",
    "cities = [\"Dublin\", \"Canberra\", \"Ottawa\", \"Prague\", \"Delhi\", \"Rome\", \"Wellington\", \"Warsaw\", \"Lisbon\", \"Singapore\", \"Abu Dhabi\", \"London\", \"Washington\", \"Edinburgh\", \"Belfast\"]\n",
    "\n",
    "# A dictionary/map to store cities as key and their respective countries as values\n",
    "country_city_dict = {\"Dublin\": \"Republic of Ireland\", \"Canberra\": \"Australia\", \"Ottawa\": \"Canada\", \"Prague\": \"Czech Republic\", \"Delhi\": \"India\", \"Rome\": \"Italy\", \"Wellington\": \"New Zealand\", \"Warsaw\": \"Poland\", \"Lisbon\": \"Portugal\", \"Singapore\": \"Singapore\", \"Abu Dhabi\": \"United Arab Emirates\", \"London\": \"England\", \"Washington\": \"United States of America\", \"Edinburgh\": \"Sctoland\", \"Belfast\": \"Northern Ireland\"}\n",
    "\n",
    "# Initialized a set to store count of restaurants. Entries will be added in the 'get_restaurant_details' function.\n",
    "restaurant_numbers = set()"
   ]
  },
  {
   "cell_type": "code",
   "execution_count": 0,
   "metadata": {
    "colab": {},
    "colab_type": "code",
    "id": "ttuhTOGOTN-j"
   },
   "outputs": [],
   "source": [
    "city_id_city_map = {91: 'Dublin', 313: 'Canberra', 295: 'Ottawa', 84: 'Prague', 1: 'Delhi', 257: 'Rome', 71: 'Wellington', 109: 'Warsaw', 82: 'Lisbon', 52: 'Singapore', 57: 'Abu Dhabi', 61: 'London', 283: 'Washington', 76: 'Edinburgh', 320: 'Belfast'}\n",
    "city_ids = [91, 313, 295, 84, 1, 257, 71, 109, 82, 52, 57, 61, 283, 76, 320]"
   ]
  },
  {
   "cell_type": "code",
   "execution_count": 0,
   "metadata": {
    "colab": {},
    "colab_type": "code",
    "id": "docfkwuSTO3U"
   },
   "outputs": [],
   "source": [
    "restaurant_numbers = {'Abu Dhabi,5171',\n",
    " 'Belfast,1080',\n",
    " 'Canberra,1060',\n",
    " 'Delhi,36711',\n",
    " 'Dublin,3212',\n",
    " 'Edinburgh,2299',\n",
    " 'Lisbon,14209',\n",
    " 'London,28708',\n",
    " 'Ottawa,2641',\n",
    " 'Prague,6412',\n",
    " 'Rome,10111',\n",
    " 'Singapore,13041',\n",
    " 'Warsaw,4134',\n",
    " 'Washington,3065',\n",
    " 'Wellington,1961'}"
   ]
  },
  {
   "cell_type": "markdown",
   "metadata": {
    "colab_type": "text",
    "id": "n5nKWVSEbVdj"
   },
   "source": [
    "## Pre-processing restuarant details and review details"
   ]
  },
  {
   "cell_type": "markdown",
   "metadata": {
    "colab_type": "text",
    "id": "xn48uma4HY8U"
   },
   "source": [
    "### Analyzing data before preprocessing is applied \n"
   ]
  },
  {
   "cell_type": "code",
   "execution_count": 0,
   "metadata": {
    "colab": {},
    "colab_type": "code",
    "id": "BSzgls6TbcRL"
   },
   "outputs": [],
   "source": [
    "#Analyzing unique values in each column in restaurant details\n",
    "for col in restaurant_details.columns:\n",
    "  print(col + \":\")\n",
    "  print(restaurant_details[col].nunique())"
   ]
  },
  {
   "cell_type": "markdown",
   "metadata": {
    "colab_type": "text",
    "id": "sQoXWS89I4tf"
   },
   "source": [
    "**Observations from above results**\n",
    "\n",
    "- Attribute **'Store type'** has no unique value \n",
    "- Attribute **'Bogo Offers'** has 1 unique value.\n",
    "\n",
    "Both these are not informative enough. Hence they have been removed in the next step"
   ]
  },
  {
   "cell_type": "code",
   "execution_count": 0,
   "metadata": {
    "colab": {},
    "colab_type": "code",
    "id": "kKzvofdIHmgn"
   },
   "outputs": [],
   "source": [
    "#Analyzing unique values in each column in review details\n",
    "for col in review_details.columns:\n",
    "  print(col + \":\")\n",
    "  print(review_details[col].nunique())"
   ]
  },
  {
   "cell_type": "markdown",
   "metadata": {
    "colab_type": "text",
    "id": "SN1G4nC0Jy0o"
   },
   "source": [
    "### Data Cleaning"
   ]
  },
  {
   "cell_type": "markdown",
   "metadata": {
    "colab_type": "text",
    "id": "VLzDieGyc10L"
   },
   "source": [
    "**Removing columns that are not informative**"
   ]
  },
  {
   "cell_type": "code",
   "execution_count": 0,
   "metadata": {
    "colab": {},
    "colab_type": "code",
    "id": "5dOflPlqbhLk"
   },
   "outputs": [],
   "source": [
    "# Removing columns 'Store Type' and 'Bogo Offers' since for every restaurant their values are same\n",
    "restaurant_details.drop(columns = ['Store Type', 'Bogo Offers'], inplace = True)"
   ]
  },
  {
   "cell_type": "markdown",
   "metadata": {
    "colab_type": "text",
    "id": "pOPgOVhcKI2T"
   },
   "source": [
    "**Handling missing and inconsistent data**\n",
    "\n",
    "In ***restaurant_details***, there are 2 attributes that are important and have missing/inconsistent data -\n",
    "\n",
    "*   **Average cost for 2** [Inconsistent values 0/275000017 ] \n",
    "*   **Cuisines** [Has missing values] \n",
    "\n",
    "Initially,  Inconsistent values are first converted to NA. Missing data have been handled by replacing them with 'Not specified'.\n",
    "\n",
    "Later, \n",
    "*   For Average cost for 2, **NA is filled with the mean value for 'Average Cost for Two (in Euros)' of repective cities**. \n",
    "For example, if Delhi has a mean value for 'Average cost for two' as 400, the restaurants that have 'Average cost for two' as 0/25000017, is replaced by the mean value.\n",
    "\n",
    "*  For Cuisines, each city's most popular cuisine is determined and **the'Not specified' cuisine is replaced by respective city's most popular cuisine**.\n",
    "For example, if Dublin has the most popular cuisine as 'European', the resturants that have no cuisine specified is replaced by 'European'\n",
    "\n",
    "In ***review_details***, missing data is replaced by NA\n",
    "\n",
    "\n",
    "\n"
   ]
  },
  {
   "cell_type": "code",
   "execution_count": 0,
   "metadata": {
    "colab": {},
    "colab_type": "code",
    "id": "k2VMFJEpbjkX"
   },
   "outputs": [],
   "source": [
    "# Filling NA values with 'Not specified'\n",
    "restaurant_details.fillna(\"Not Specified\", inplace = True)"
   ]
  },
  {
   "cell_type": "markdown",
   "metadata": {
    "colab_type": "text",
    "id": "swoOelcRdXZH"
   },
   "source": [
    "**Replacing inconsistent values in 'Average Cost for Two'**"
   ]
  },
  {
   "cell_type": "code",
   "execution_count": 0,
   "metadata": {
    "colab": {},
    "colab_type": "code",
    "id": "i076R2j4cA1v"
   },
   "outputs": [],
   "source": [
    "# Replacing the values 0 and 25000017 (some random incorrect value) for 'Average Cost for Two' by NaN and filling it with mean 'Average Cost for Two' of repective cities\n",
    "restaurant_details['Average Cost for Two'] = restaurant_details['Average Cost for Two'].replace([0, 25000017], np.nan)\n",
    "restaurant_details['Average Cost for Two'] = restaurant_details.groupby(\"City\")['Average Cost for Two'].transform(lambda x: x.fillna(int(round(x.mean()))))"
   ]
  },
  {
   "cell_type": "markdown",
   "metadata": {
    "colab_type": "text",
    "id": "XFty91GydhJ4"
   },
   "source": [
    "**Replacing missing values in 'Cuisines'**"
   ]
  },
  {
   "cell_type": "code",
   "execution_count": 0,
   "metadata": {
    "colab": {},
    "colab_type": "code",
    "id": "un1n26kxblwG"
   },
   "outputs": [],
   "source": [
    "# Creating a set of cuisines which would be used in visualizations ahead\n",
    "cuisines_set_with_spaces = set()\n",
    "i = 0\n",
    "for cuisine in restaurant_details['Cuisines']:\n",
    "  cuisines_set_with_spaces.update(cuisine.split(','))"
   ]
  },
  {
   "cell_type": "code",
   "execution_count": 0,
   "metadata": {
    "colab": {},
    "colab_type": "code",
    "id": "U6y_s8FobriT"
   },
   "outputs": [],
   "source": [
    "# Creating another set of cuisines by trimming the extra whitespaces\n",
    "cuisines_set = set()\n",
    "for entry in cuisines_set_with_spaces:\n",
    "  entry = entry.strip()\n",
    "  cuisines_set.add(entry)\n",
    "\n",
    "cuisines_set"
   ]
  },
  {
   "cell_type": "code",
   "execution_count": 0,
   "metadata": {
    "colab": {},
    "colab_type": "code",
    "id": "wpB1BX82b2yG"
   },
   "outputs": [],
   "source": [
    "# Initialised a dictionary with each city as key and the values being count of each cuisine in that city\n",
    "cuisine_city_dict = {\"Dublin\": {}, \"Canberra\": {}, \"Ottawa\": {}, \"Prague\": {}, \"Delhi\": {}, \"Rome\": {}, \"Wellington\": {}, \"Warsaw\": {}, \"Lisbon\": {}, \"Singapore\": {}, \"Abu Dhabi\": {}, \"London\": {}, \"Washington\": {}, \"Edinburgh\": {}, \"Belfast\": {}}"
   ]
  },
  {
   "cell_type": "code",
   "execution_count": 0,
   "metadata": {
    "colab": {},
    "colab_type": "code",
    "id": "BOS0VBzRb5eX"
   },
   "outputs": [],
   "source": [
    "# Loops through each cuisine in the 'cuisines_set' to count the number of presence of that cuisine in each city\n",
    "for cuisine in cuisines_set:\n",
    "  data_cuisine = restaurant_details[restaurant_details['Cuisines'].str.contains(cuisine)]\n",
    "  groupby_city = data_cuisine.groupby('City').count()['Restaurant ID']\n",
    "  for index, num in groupby_city.items():\n",
    "    cuisine_city_dict[index][cuisine] = num\n",
    "\n",
    "cuisine_city_dict"
   ]
  },
  {
   "cell_type": "code",
   "execution_count": 0,
   "metadata": {
    "colab": {},
    "colab_type": "code",
    "id": "lCpliUDLb-Om"
   },
   "outputs": [],
   "source": [
    "# Replacing 'Not specified' cuisine by respective city's most popular cuisine\n",
    "restaurant_details['Cuisines'] = restaurant_details['Cuisines'].str.replace('Not specified', max(cuisine_city_dict['Washington'], key = cuisine_city_dict['Washington'].get))"
   ]
  },
  {
   "cell_type": "markdown",
   "metadata": {
    "colab_type": "text",
    "id": "da2CfwMYeMov"
   },
   "source": [
    "**Replacing missing data in review_details**"
   ]
  },
  {
   "cell_type": "code",
   "execution_count": 0,
   "metadata": {
    "colab": {},
    "colab_type": "code",
    "id": "cpe5wOAqxYMv"
   },
   "outputs": [],
   "source": [
    "# Filling NA values with 'Not specified' \n",
    "review_details.fillna(\"Not Specified\", inplace = True)"
   ]
  },
  {
   "cell_type": "markdown",
   "metadata": {
    "colab_type": "text",
    "id": "eKycbZTddvch"
   },
   "source": [
    "### Data Transformation \n"
   ]
  },
  {
   "cell_type": "markdown",
   "metadata": {
    "colab_type": "text",
    "id": "L0GcWLQEeXIh"
   },
   "source": [
    "Following data transformations have been applied for restaurant_details - \n",
    "\n",
    "*   **'Average cost for Two'** has cost values in different currencies, they are converted to Euros by applying the associated conversion rates\n",
    "*   Some restaurants have **Aggregate ratings** and no **'Reviews count'**. There is no point of having Aggregate ratings as they will not be user provided. **Aggregate rating** values are hence replaced by 0 if there are no reviews (Review count = 0)\n",
    "*   For attribute **'Online Delivery'** 0 is replaced by 'No' and 1 by 'Yes' \n",
    "*  For attribute **'Table reservation'** 0 is replaced by 'No' and 1 by 'Yes'\n",
    "\n",
    "Following data transformations have been applied for review_details - \n",
    "\n",
    "*  **Review time** has been modified in a way that time is in the form of number of years ago\n",
    "For example, if **'Review time'** is 20 July 2012, it is converted to 8 years ago\n"
   ]
  },
  {
   "cell_type": "code",
   "execution_count": 0,
   "metadata": {
    "colab": {},
    "colab_type": "code",
    "id": "zUCVljXhcKLd"
   },
   "outputs": [],
   "source": [
    "''' Function to convert cost values into Euros respective to each city and the associated conversion rate.\n",
    "'''\n",
    "def change_to_euros(row):\n",
    "  if row['City'] == 'Canberra':\n",
    "    row['Average Cost for Two'] *= 0.55\n",
    "  if row['City'] == 'Ottawa':\n",
    "    row['Average Cost for Two'] *= 0.64\n",
    "  if row['City'] == 'Prague':\n",
    "    row['Average Cost for Two'] *= 0.036\n",
    "  if row['City'] == 'Delhi':\n",
    "    row['Average Cost for Two'] *= 0.012\n",
    "  if row['City'] == 'Wellington':\n",
    "    row['Average Cost for Two'] *= 0.54\n",
    "  if row['City'] == 'Warsaw':\n",
    "    row['Average Cost for Two'] *= 0.22\n",
    "  if row['City'] == 'Singapore':\n",
    "    row['Average Cost for Two'] *= 0.63\n",
    "  if row['City'] == 'Abu Dhabi':\n",
    "    row['Average Cost for Two'] *= 0.24\n",
    "  if row['City'] == 'Washington':\n",
    "    row['Average Cost for Two'] *= 0.90\n",
    "  if row['City'] == 'London' or row['City'] == 'Edinburgh' or row['City'] == 'Belfast':\n",
    "    row['Average Cost for Two'] *= 1.12\n",
    "  return int(round(row['Average Cost for Two']))"
   ]
  },
  {
   "cell_type": "code",
   "execution_count": 0,
   "metadata": {
    "colab": {},
    "colab_type": "code",
    "id": "hgxRKLVScLtP"
   },
   "outputs": [],
   "source": [
    "# Converting values of 'Average Cost for Two (in Euros)' into price in Euros\n",
    "restaurant_details['Average Cost for Two (in Euros)'] = restaurant_details.apply(lambda row : change_to_euros(row), axis = 1)\n",
    "restaurant_details.drop(columns = ['Average Cost for Two'])\n",
    "restaurant_details['Average Cost for Two (in Euros)']"
   ]
  },
  {
   "cell_type": "code",
   "execution_count": 0,
   "metadata": {
    "colab": {},
    "colab_type": "code",
    "id": "JlGvYIRTcPwj"
   },
   "outputs": [],
   "source": [
    "# Replacing Aggregate Rating values by 0 if there are no reviews i.e. Reviews Count = 0 for them\n",
    "idxs = restaurant_details[(restaurant_details['Reviews Count'] == 0) & (restaurant_details['Aggregate Rating'] > 0)]['Aggregate Rating'].keys()\n",
    "for idx in idxs:\n",
    "  restaurant_details['Aggregate Rating'][idx] = 0\n",
    "#restaurant_details[(restaurant_details['Reviews Count'] == 0) & (restaurant_details['Avg'] > 0)]"
   ]
  },
  {
   "cell_type": "code",
   "execution_count": 0,
   "metadata": {
    "colab": {},
    "colab_type": "code",
    "id": "2moitv04cSTh"
   },
   "outputs": [],
   "source": [
    "# Replacing 0 as 'No' and 1 as 'Yes' for column 'Online Delivery'\n",
    "restaurant_details['Online Delivery'] = restaurant_details['Online Delivery'].apply(str)\n",
    "restaurant_details['Online Delivery'] = restaurant_details['Online Delivery'].str.replace('0', 'No')\n",
    "restaurant_details['Online Delivery'] = restaurant_details['Online Delivery'].str.replace('1', 'Yes')\n",
    "\n",
    "# Replacing 0 as 'No' and 1 as 'Yes' for column 'Table Reservation'\n",
    "restaurant_details['Table Reservation'] = restaurant_details['Table Reservation'].apply(str)\n",
    "restaurant_details['Table Reservation'] = restaurant_details['Table Reservation'].str.replace('0', 'No')\n",
    "restaurant_details['Table Reservation'] = restaurant_details['Table Reservation'].str.replace('1', 'Yes')\n",
    "\n",
    "restaurant_details"
   ]
  },
  {
   "cell_type": "code",
   "execution_count": 0,
   "metadata": {
    "colab": {},
    "colab_type": "code",
    "id": "ZjaVFP82xb8w"
   },
   "outputs": [],
   "source": [
    "#Data transformation\n",
    "''' Function to modify review time such that time is in the form of number of years ago\n",
    "'''\n",
    "def modify_review_time(row):\n",
    "  if row['Review Time'].find('2012') >= 0:\n",
    "    row['Review Time'] = \"8 years ago\"\n",
    "  if row['Review Time'].find('2013') >= 0:\n",
    "    row['Review Time'] = \"7 years ago\"\n",
    "  if row['Review Time'].find('2014') >= 0:\n",
    "    row['Review Time'] = \"6 years ago\"\n",
    "  if row['Review Time'].find('2015') >= 0:\n",
    "    row['Review Time'] = \"5 years ago\"\n",
    "  if row['Review Time'].find('2016') >= 0:\n",
    "    row['Review Time'] = \"4 years ago\"\n",
    "  if row['Review Time'].find('2017') >= 0:\n",
    "    row['Review Time'] = \"3 years ago\"\n",
    "  if row['Review Time'].find('2018') >= 0:\n",
    "    row['Review Time'] = \"2 years ago\"\n",
    "  if row['Review Time'].find('2019') >= 0:\n",
    "    row['Review Time'] = \"1 year ago\"\n",
    "  return row['Review Time']"
   ]
  },
  {
   "cell_type": "code",
   "execution_count": 0,
   "metadata": {
    "colab": {},
    "colab_type": "code",
    "id": "Tbb7idmzxfdC"
   },
   "outputs": [],
   "source": [
    "# Review Time column values modified according to the above function \n",
    "review_details['Review Time'] = review_details.apply(lambda row : modify_review_time(row), axis = 1)\n",
    "review_details"
   ]
  },
  {
   "cell_type": "markdown",
   "metadata": {
    "colab_type": "text",
    "id": "FrDnlt4ocZER"
   },
   "source": [
    "### Feature Engineering"
   ]
  },
  {
   "cell_type": "markdown",
   "metadata": {
    "colab_type": "text",
    "id": "8M6pT4U6oyUQ"
   },
   "source": [
    "Following features have been extracted -\n",
    "\n",
    "\n",
    "1. **Payment Modes** has been extracted from **'Highlights'** column and created as a new column\n",
    "2. **Takeway Available** has been extracted from **'Highlights'** column and created as a new column\n",
    "3. **Serves Alcohol** has been extracted from **'Highlights'** column and created as a new column\n",
    "4. **Vegetarian Friendly** has been extracted from **'Highlights'** column and created as a new column\n",
    "5. **Seating Arrangement** has been extracted from **'Highlights'** column and created as a new column\n",
    "6. **Special Features includes 'Has Early Bird Menu', 'Wifi', 'Nightlife' and 'Pet Friendly'** has been extracted from **'Highlights'** column and created as a new column - Special features\n",
    "7. Dropping column **'Highlights'** since all required features are extracted\n",
    "\n",
    "\n",
    "\n",
    "\n",
    "\n"
   ]
  },
  {
   "cell_type": "code",
   "execution_count": 0,
   "metadata": {
    "colab": {},
    "colab_type": "code",
    "id": "o6XxuuiOcW2K"
   },
   "outputs": [],
   "source": [
    "''' Function to extract 'Payment Modes' from the 'Highlights' column\n",
    "'''\n",
    "def make_payment_mode_string(row):\n",
    "  ret_str = \"\"\n",
    "  if row['Highlights'].find('Credit Card') >= 0:\n",
    "    ret_str += \"Credit Card,\"\n",
    "  if row['Highlights'].find('Debit Card') >= 0:\n",
    "    ret_str += \"Debit Card,\"\n",
    "  if row['Highlights'].find('Cash') >= 0:\n",
    "    ret_str += \"Cash,\"\n",
    "  if row['Highlights'].find('Digital Payments Accepted') >= 0:\n",
    "    ret_str += \"Digital Payments Accepted,\"\n",
    "  if ret_str == \"\":\n",
    "    return \"Not specified\"\n",
    "  else:\n",
    "    return ret_str[0:len(ret_str) - 1]"
   ]
  },
  {
   "cell_type": "code",
   "execution_count": 0,
   "metadata": {
    "colab": {},
    "colab_type": "code",
    "id": "g_FlgMUvcf_j"
   },
   "outputs": [],
   "source": [
    "# 1. Payment Modes column created by checking Highlights column\n",
    "restaurant_details['Payment Modes'] = restaurant_details.apply(lambda row : make_payment_mode_string(row), axis = 1)"
   ]
  },
  {
   "cell_type": "code",
   "execution_count": 0,
   "metadata": {
    "colab": {},
    "colab_type": "code",
    "id": "7_gG8yFUcgpF"
   },
   "outputs": [],
   "source": [
    "''' Function to extract 'Takeaway Available' information from the 'Highlights' column\n",
    "'''\n",
    "def make_takeaway_string(row):\n",
    "  ret_str = \"\"\n",
    "  if row['Highlights'].find('Takeaway Available') >= 0:\n",
    "    ret_str = \"Yes\"\n",
    "  else:\n",
    "    ret_str = \"No\"\n",
    "  return ret_str"
   ]
  },
  {
   "cell_type": "code",
   "execution_count": 0,
   "metadata": {
    "colab": {},
    "colab_type": "code",
    "id": "6GwvDJEecifF"
   },
   "outputs": [],
   "source": [
    "# 2. Takeaway Available column created by checking Highlights column\n",
    "restaurant_details['Takeaway Available'] = restaurant_details.apply(lambda row : make_takeaway_string(row), axis = 1)"
   ]
  },
  {
   "cell_type": "code",
   "execution_count": 0,
   "metadata": {
    "colab": {},
    "colab_type": "code",
    "id": "fAJxmwUAcknR"
   },
   "outputs": [],
   "source": [
    "''' Function to extract 'Serves Alcohol' information from the 'Highlights' column\n",
    "'''\n",
    "def make_alcohol_string(row):\n",
    "  ret_str = \"\"\n",
    "  if row['Highlights'].find('Serves Alcohol') >= 0:\n",
    "    ret_str = \"Yes\"\n",
    "  else:\n",
    "    ret_str = \"No\"\n",
    "  return ret_str"
   ]
  },
  {
   "cell_type": "code",
   "execution_count": 0,
   "metadata": {
    "colab": {},
    "colab_type": "code",
    "id": "PKnZahOfcnek"
   },
   "outputs": [],
   "source": [
    "# 3. Serves Alcohol column created by checking Highlights column\n",
    "restaurant_details['Serves Alcohol'] = restaurant_details.apply(lambda row : make_alcohol_string(row), axis = 1)"
   ]
  },
  {
   "cell_type": "code",
   "execution_count": 0,
   "metadata": {
    "colab": {},
    "colab_type": "code",
    "id": "3Jn8QdeKcqEn"
   },
   "outputs": [],
   "source": [
    "''' Function to extract 'Vegetarian Friendly' information from the 'Highlights' column\n",
    "'''\n",
    "def make_vegetarian_string(row):\n",
    "  ret_str = \"\"\n",
    "  if row['Highlights'].find('Vegetarian Friendly') >= 0:\n",
    "    ret_str = \"Yes\"\n",
    "  else:\n",
    "    ret_str = \"No\"\n",
    "  return ret_str"
   ]
  },
  {
   "cell_type": "code",
   "execution_count": 0,
   "metadata": {
    "colab": {},
    "colab_type": "code",
    "id": "-9LLyl9Bcr1q"
   },
   "outputs": [],
   "source": [
    "# 4. Vegetarian Friendly column created by checking Highlights column\n",
    "restaurant_details['Vegetarian Friendly'] = restaurant_details.apply(lambda row : make_vegetarian_string(row), axis = 1)"
   ]
  },
  {
   "cell_type": "code",
   "execution_count": 0,
   "metadata": {
    "colab": {},
    "colab_type": "code",
    "id": "MmKQ54vPctTi"
   },
   "outputs": [],
   "source": [
    "''' Function to extract 'Seating Arrangements' information from the 'Highlights' column\n",
    "'''\n",
    "def make_seating_string(row):\n",
    "  ret_str = \"\"\n",
    "  if row['Highlights'].find('Indoor Seating') >= 0:\n",
    "    ret_str += \"Indoor,\"\n",
    "  if row['Highlights'].find('Outdoor Seating') >= 0:\n",
    "    ret_str += \"Outdoor,\"\n",
    "  if ret_str == \"\":\n",
    "    return \"Not specified\"\n",
    "  else:\n",
    "    return ret_str[0:len(ret_str) - 1]"
   ]
  },
  {
   "cell_type": "code",
   "execution_count": 0,
   "metadata": {
    "colab": {},
    "colab_type": "code",
    "id": "Q29xLhJ6cvnW"
   },
   "outputs": [],
   "source": [
    "# 5. Seating Arrangements column created by checking Highlights column\n",
    "restaurant_details['Seating Arrangements'] = restaurant_details.apply(lambda row : make_seating_string(row), axis = 1)"
   ]
  },
  {
   "cell_type": "code",
   "execution_count": 0,
   "metadata": {
    "colab": {},
    "colab_type": "code",
    "id": "qAXKBCR0cyEr"
   },
   "outputs": [],
   "source": [
    "''' Function to extract 'Special Features' information from the 'Highlights' column.\n",
    "    Special Features includes 'Has Early Bird Menu', 'Wifi', 'Nightlife' and 'Pet Friendly'\n",
    "'''\n",
    "def make_special_features_string(row):\n",
    "  ret_str = \"\"\n",
    "  if row['Highlights'].find('Has Early Bird Menu') >= 0:\n",
    "    ret_str += \"Early Bird Menu,\"\n",
    "  if row['Highlights'].find('Wifi') >= 0:\n",
    "    ret_str += \"Wifi,\"\n",
    "  if row['Highlights'].find('Nightlife') >= 0:\n",
    "    ret_str += \"Nightlife,\"\n",
    "  if row['Highlights'].find('Pet Friendly') >= 0:\n",
    "    ret_str += \"Pet Friendly,\"\n",
    "  if ret_str == \"\":\n",
    "    return \"Not specified\"\n",
    "  else:\n",
    "    return ret_str[0:len(ret_str) - 1]"
   ]
  },
  {
   "cell_type": "code",
   "execution_count": 0,
   "metadata": {
    "colab": {},
    "colab_type": "code",
    "id": "QzmfjfTZcy3F"
   },
   "outputs": [],
   "source": [
    "# 6. Special Features column created by checking Highlights column\n",
    "restaurant_details['Special Features'] = restaurant_details.apply(lambda row : make_special_features_string(row), axis = 1)"
   ]
  },
  {
   "cell_type": "code",
   "execution_count": 0,
   "metadata": {
    "colab": {},
    "colab_type": "code",
    "id": "8E-JrRNyc08j"
   },
   "outputs": [],
   "source": [
    "# 7. Dropping column Highlights since all required features are extracted\n",
    "restaurant_details.drop(columns = 'Highlights', inplace = True)"
   ]
  },
  {
   "cell_type": "code",
   "execution_count": 0,
   "metadata": {
    "colab": {},
    "colab_type": "code",
    "id": "pykLgMTCc3Dk"
   },
   "outputs": [],
   "source": [
    "restaurant_details"
   ]
  },
  {
   "cell_type": "markdown",
   "metadata": {
    "colab_type": "text",
    "id": "JGBfWZrsc7O5"
   },
   "source": [
    "## Visualisation "
   ]
  },
  {
   "cell_type": "markdown",
   "metadata": {
    "colab_type": "text",
    "id": "zmbniUW5Yf5N"
   },
   "source": [
    "Initializing variables to be used later in visualizations "
   ]
  },
  {
   "cell_type": "code",
   "execution_count": 0,
   "metadata": {
    "colab": {},
    "colab_type": "code",
    "id": "1XXPwu9dc5GZ"
   },
   "outputs": [],
   "source": [
    "font = {'family': 'serif',\n",
    "        'weight': 'normal',\n",
    "        'size': 13,\n",
    "        'horizontalalignment': 'center'\n",
    "        }\n",
    "\n",
    "font_horizontal = {'family': 'serif',\n",
    "        'weight': 'normal',\n",
    "        'size': 13,\n",
    "        'verticalalignment': 'center'\n",
    "        }\n",
    "\n",
    "colors = ['lightcoral', 'palegreen', 'chocolate', 'plum', 'turquoise', 'cornflowerblue', 'dimgrey', 'pink', 'wheat', 'salmon', 'mediumpurple', 'coral', 'mediumseagreen', 'khaki', 'lightsteelblue']"
   ]
  },
  {
   "cell_type": "markdown",
   "metadata": {
    "colab_type": "text",
    "id": "W6675qhWc95W"
   },
   "source": [
    "Below code is used to find most popular cuisine for each city and the corresponding number of restaurants offering that cuisine \n",
    "An ordered dictionary is created to retain the order in which the values are entered. \n",
    "\n",
    "**Key is of the form - [city,most popular cuisine]**\n",
    "\n",
    "**Value is - [the number of restaurants]**\n",
    "\n",
    "Key is taken in this form to prevent duplicate keys. For example, if there are 2 cities which have same 'Most popular cuisines', then instead of making 2 entries, it will overwrite the last one.\n"
   ]
  },
  {
   "cell_type": "code",
   "execution_count": 0,
   "metadata": {
    "colab": {},
    "colab_type": "code",
    "id": "BE6I1-9ndCKJ"
   },
   "outputs": [],
   "source": [
    "# Finding most popular cuisine for each city and keeping them in an ordered dictionary to retain the order in which values are entered\n",
    "max_cuisine_dict = {}\n",
    "for city in city_id_city_map.values():\n",
    "  max_key = max(cuisine_city_dict[city], key = cuisine_city_dict[city].get)\n",
    "  max_cuisine_dict[city + \",\" + max_key] = cuisine_city_dict[city][max_key]\n",
    "\n",
    "max_cuisine_dict_ordered = OrderedDict(max_cuisine_dict)\n",
    "max_cuisine_dict_ordered"
   ]
  },
  {
   "cell_type": "code",
   "execution_count": 0,
   "metadata": {
    "colab": {},
    "colab_type": "code",
    "id": "3z38PlXBeY_d"
   },
   "outputs": [],
   "source": [
    "# Code to get the highly rated and worst rated restaurants in all cities\n",
    "highly_rated_restaurant_names = {}\n",
    "worst_rated_restaurant_names = {}\n",
    "for city in cities:\n",
    "  highly_rated_restaurant_names[city] = restaurant_details[restaurant_details['City'] == city].sort_values(by = ['Aggregate Rating', 'Reviews Count'], ascending = False)['Restaurant Name'].iloc[0]\n",
    "  worst_rated_restaurant_names[city] = restaurant_details[restaurant_details['City'] == city].sort_values(by = ['Aggregate Rating', 'Reviews Count'], ascending = True)['Restaurant Name'].iloc[0]"
   ]
  },
  {
   "cell_type": "code",
   "execution_count": 0,
   "metadata": {
    "colab": {},
    "colab_type": "code",
    "id": "3FusDq7sejX6"
   },
   "outputs": [],
   "source": [
    "highly_rated_restaurant_names"
   ]
  },
  {
   "cell_type": "code",
   "execution_count": 0,
   "metadata": {
    "colab": {},
    "colab_type": "code",
    "id": "UAq_qL_pek0K"
   },
   "outputs": [],
   "source": [
    "worst_rated_restaurant_names"
   ]
  },
  {
   "cell_type": "markdown",
   "metadata": {
    "colab_type": "text",
    "id": "-YVyyYdcmKIy"
   },
   "source": [
    "### Visualisation 1\n",
    "Total number of restaurants in each city "
   ]
  },
  {
   "cell_type": "code",
   "execution_count": 0,
   "metadata": {
    "colab": {},
    "colab_type": "code",
    "id": "YZ63VE-Xd8is"
   },
   "outputs": [],
   "source": [
    "# Creating a dictionary from the set 'restaurant_numbers' which stores city as key and the count of restaurants as value\n",
    "restaurant_numbers_dict = {}\n",
    "for item in restaurant_numbers:\n",
    "  splits = item.split(',')\n",
    "  restaurant_numbers_dict[splits[0]] = int(splits[1])\n",
    "\n",
    "# Restaurant Count in each city\n",
    "fig = plt.figure(figsize = (11,8))\n",
    "plt.bar(list(restaurant_numbers_dict.keys()), restaurant_numbers_dict.values(), color = colors)\n",
    "plt.tight_layout()\n",
    "for index, value in enumerate(restaurant_numbers_dict.values()):\n",
    "    plt.text(index, value, str(value), fontdict = font)\n",
    "plt.xlabel(\"Count of Restaurants\")\n",
    "plt.ylabel(\"Cities\")\n",
    "plt.xticks(rotation = 90)\n",
    "plt.title(\"Number of Restaurants in Each City\")\n",
    "plt.show()"
   ]
  },
  {
   "cell_type": "markdown",
   "metadata": {
    "colab_type": "text",
    "id": "mOEJv8vclx9U"
   },
   "source": [
    "**Observations -**\n",
    "\n",
    "**India's capital - Delhi has 36711 restaurants served by Zomato - highest in any country**\n",
    "In Europe, London has the highest number of restaurants - 28708\n",
    "Australian capital - Canberra has only 1060 restaurants followed by 1080 restaurants in Belfast"
   ]
  },
  {
   "cell_type": "markdown",
   "metadata": {
    "colab_type": "text",
    "id": "vtekdJ3UeZ5Y"
   },
   "source": [
    "### Visualisation 2 -\n",
    "\n",
    "Top 10 poular cuisines in Dublin based on number of restaurants offering that cuisine \n"
   ]
  },
  {
   "cell_type": "code",
   "execution_count": 0,
   "metadata": {
    "colab": {},
    "colab_type": "code",
    "id": "mofc-IHbdHcl"
   },
   "outputs": [],
   "source": [
    "# Sorting the cuisines based on popularity in descending order and appending it to a list\n",
    "cuisine_list = []\n",
    "{cuisine_list.append(k+\",\"+str(v)) for k, v in sorted(cuisine_city_dict['Dublin'].items(), key=lambda item: item[1], reverse=True)}\n",
    "\n",
    "# Creating an ordered dictionary of cuisines of Dublin sorted on the basis of count of restaurants to retain the order in which values are entered\n",
    "cuisine_list_dict = {}\n",
    "for item in cuisine_list:\n",
    "  items = item.split(\",\")\n",
    "  cuisine_list_dict[items[0]] = int(items[1])\n",
    "cuisine_list_dict_ordered = OrderedDict(cuisine_list_dict)\n",
    "\n",
    "print(cuisine_list_dict_ordered)\n",
    "\n",
    "#Plotting bar plot\n",
    "labels = list(cuisine_list_dict_ordered.keys())[0:10]\n",
    "sizes = list(cuisine_list_dict_ordered.values())[0:10]\n",
    "explode = [0.1,0,0,0,0,0,0,0,0,0]\n",
    "fig = plt.figure(figsize=(10,10))\n",
    "plt.pie(sizes, startangle=90, autopct='%1.1f%%', labels=labels, explode = explode, shadow = True)\n",
    "plt.axis('equal')\n",
    "plt.title('Top 10 popular cuisines in Dublin based on number of restaurants offering that cuisine ')\n",
    "plt.tight_layout()\n",
    "plt.show()"
   ]
  },
  {
   "cell_type": "markdown",
   "metadata": {
    "colab_type": "text",
    "id": "iAuAmgZfflfc"
   },
   "source": [
    "**Observations -**\n",
    "\n",
    "From the above bar chart, it is observed that **'European food' is the most popular cuisine in Dublin followed by 'Irish food' and 'Cafe'.**\n",
    "\n",
    "***Around 21% restaurants in Dublin serve 'European food'***"
   ]
  },
  {
   "cell_type": "markdown",
   "metadata": {
    "colab_type": "text",
    "id": "3Fr6wWGTmTSH"
   },
   "source": [
    "### Visualisation 3\n",
    "Mean 'Average cost for Two' for each city"
   ]
  },
  {
   "cell_type": "code",
   "execution_count": 0,
   "metadata": {
    "colab": {},
    "colab_type": "code",
    "id": "aP9CGPuaeHbL"
   },
   "outputs": [],
   "source": [
    "# Mean 'Average Cost for Two (in Euros)'\n",
    "mean_avg_cost_for_two = restaurant_details.groupby('City')['Average Cost for Two (in Euros)'].mean()\n",
    "\n",
    "fig = plt.figure(figsize = (12,7))\n",
    "mean_avg_cost_for_two = mean_avg_cost_for_two.sort_values()\n",
    "xlab = list(mean_avg_cost_for_two.keys())\n",
    "ylab = mean_avg_cost_for_two.values\n",
    "plt.plot(xlab, ylab, marker = 'o')\n",
    "plt.tight_layout()\n",
    "for i,j in zip(xlab, ylab):\n",
    "  plt.annotate(j, (i,j), textcoords=\"offset points\", xytext=(0,10), ha='center')\n",
    "plt.xlabel(\"Cities\")\n",
    "plt.ylabel(\"Mean Average Cost for Two (in Euros)\")\n",
    "plt.title(\"Mean Average Cost for Two (in Euros) for Each City\")\n",
    "plt.show()"
   ]
  },
  {
   "cell_type": "markdown",
   "metadata": {
    "colab_type": "text",
    "id": "Faut5D9elzyl"
   },
   "source": [
    "**Observations -**\n",
    "\n",
    "When currencies are converted in Euros, restaurants in Washington have the highest mean value for 'Average Cost for Two'- 80.96 Euros\n",
    "\n",
    "Average cost for Two in Dublin is around 58 Euros.\n",
    "\n",
    "Average cost for Two in Delhi is around 9 Euros\n"
   ]
  },
  {
   "cell_type": "markdown",
   "metadata": {
    "colab_type": "text",
    "id": "PckgGiRMmbgn"
   },
   "source": [
    "### Visualisation 4\n",
    "Number of restaurants v/s different payment modes"
   ]
  },
  {
   "cell_type": "code",
   "execution_count": 0,
   "metadata": {
    "colab": {},
    "colab_type": "code",
    "id": "fEIzNd2teLv0"
   },
   "outputs": [],
   "source": [
    "''' Variables to count the occurences of different Payment Modes in all restaurants\n",
    "    Payment Modes - 1. Credit Card\n",
    "                    2. Debit Card\n",
    "                    3. Cash\n",
    "                    4. Digital Payments Accepted\n",
    "'''\n",
    "count_credit_card = restaurant_details[restaurant_details['Payment Modes'].str.contains('Credit Card')]\n",
    "count_debit_card = restaurant_details[restaurant_details['Payment Modes'].str.contains('Debit Card')]\n",
    "count_cash = restaurant_details[restaurant_details['Payment Modes'].str.contains('Cash')]\n",
    "count_digital_payments = restaurant_details[restaurant_details['Payment Modes'].str.contains('Digital Payments Accepted')]\n",
    "\n",
    "# Different Payment Modes\n",
    "counts_payment_modes = [len(count_credit_card), len(count_debit_card), len(count_cash), len(count_digital_payments)]\n",
    "payment_modes = ['Credit Card', 'Debit Card', 'Cash', 'Digital Payments']\n",
    "fig = plt.figure(figsize = (5,5))\n",
    "plt.bar(payment_modes, counts_payment_modes, color = colors)\n",
    "plt.tight_layout()\n",
    "for index, value in zip(range(0,len(counts_payment_modes)), counts_payment_modes):\n",
    "    plt.annotate(value, (index, value), textcoords=\"offset points\", xytext=(0,5), ha='center')\n",
    "plt.xlabel(\"Payment Modes\")\n",
    "plt.ylabel(\"Count of Restaurants\")\n",
    "plt.title(\"Number of Restaurants V/S Different Payment Modes\")\n",
    "plt.show()"
   ]
  },
  {
   "cell_type": "markdown",
   "metadata": {
    "colab_type": "text",
    "id": "Knh56lhZl1UW"
   },
   "source": [
    "**Observations -**"
   ]
  },
  {
   "cell_type": "markdown",
   "metadata": {
    "colab_type": "text",
    "id": "FwqLhs32g0Oj"
   },
   "source": [
    "### Visualisation 5\n",
    "Total number of restaurants with online delivery service in cities'"
   ]
  },
  {
   "cell_type": "code",
   "execution_count": 0,
   "metadata": {
    "colab": {},
    "colab_type": "code",
    "id": "baXOwen4dUhf"
   },
   "outputs": [],
   "source": [
    "# Count restuarants in each city with have 'Online Delivery' available\n",
    "count_online_delivery = restaurant_details[restaurant_details['Online Delivery'] == 'Yes'].groupby('City').count()['Restaurant ID']\n",
    "\n",
    "# Plotting bar chart\n",
    "plt.barh(list(count_online_delivery.keys()), count_online_delivery.values, color = colors)\n",
    "for index, value in enumerate(count_online_delivery.values):\n",
    "    plt.text(value, index, str(value), fontdict = font_horizontal)\n",
    "plt.xlabel(\"Count of Restaurants\")\n",
    "plt.ylabel(\"Cities\")\n",
    "plt.title(\"Number of Restaurants with Online Delivery Service in Cities\")\n",
    "plt.show()"
   ]
  },
  {
   "cell_type": "markdown",
   "metadata": {
    "colab_type": "text",
    "id": "BNq3XjxDhyht"
   },
   "source": [
    "**Observations -**\n",
    "\n",
    "Out of 15 cities, only 2 cities have Online Delivery available - Delhi and Abu Dhabi.\n",
    "\n",
    "**Out of 100 restaurants, 91 and 89 restaurants offer 'Online Delivery' in Delhi** **and Abu Dhabi respectively.**"
   ]
  },
  {
   "cell_type": "markdown",
   "metadata": {
    "colab_type": "text",
    "id": "gsw3ashejMSq"
   },
   "source": [
    "### Visualisation 6\n",
    "\n",
    "Total number of restaurants with 'Takeaway available' in each city"
   ]
  },
  {
   "cell_type": "code",
   "execution_count": 0,
   "metadata": {
    "colab": {},
    "colab_type": "code",
    "id": "_tJnJkmXdYk_"
   },
   "outputs": [],
   "source": [
    "# 'Takeaway Available' count\n",
    "count_takeaway_available = restaurant_details[restaurant_details['Takeaway Available'] == 'Yes'].groupby('City').count()['Restaurant ID']\n",
    "fig = plt.figure(figsize = (8,7))\n",
    "plt.bar(list(count_takeaway_available.keys()), count_takeaway_available.values, color = colors)\n",
    "for index, value in enumerate(count_takeaway_available.values):\n",
    "    plt.text(index, value, str(value), fontdict = font)\n",
    "plt.xlabel(\"Cities\")\n",
    "plt.ylabel(\"Count of Restaurants\")\n",
    "plt.tight_layout()\n",
    "plt.xticks(rotation = 90)\n",
    "plt.title('Number of Restaurants with Takeaway Available in Cities')\n",
    "plt.show()"
   ]
  },
  {
   "cell_type": "markdown",
   "metadata": {
    "colab_type": "text",
    "id": "S3_jUAWXjhm2"
   },
   "source": [
    "**Observations-**\n",
    "\n",
    "Out of 100 restaurants **in Prague, 94 are offering 'Takeaway service',** followed by 92 restaurants in Abu Dhabi\n",
    "\n",
    "Only **6 restaurants have 'Takeaway service' in Belfast**"
   ]
  },
  {
   "cell_type": "markdown",
   "metadata": {
    "colab_type": "text",
    "id": "mMDTnUWLkEBo"
   },
   "source": [
    "### Visualisation 7\n",
    "Total number of restaurants offering Vegetarian Friendly menu in each city"
   ]
  },
  {
   "cell_type": "code",
   "execution_count": 0,
   "metadata": {
    "colab": {},
    "colab_type": "code",
    "id": "LdxbspkJddR8"
   },
   "outputs": [],
   "source": [
    "# 'Vegetarian Friendly' count\n",
    "count_vegetarian_friendly = restaurant_details[restaurant_details['Vegetarian Friendly'] == 'Yes'].groupby('City').count()['Restaurant ID']\n",
    "\n",
    "fig = plt.figure(figsize = (10,7))\n",
    "plt.barh(list(count_vegetarian_friendly.keys()), count_vegetarian_friendly.values, align = \"center\", color = colors)\n",
    "plt.tight_layout()\n",
    "for index, value in enumerate(count_vegetarian_friendly.values):\n",
    "    plt.text(value, index, str(value), fontdict = font_horizontal)\n",
    "plt.xlabel(\"Count of Restaurants\")\n",
    "plt.ylabel(\"Cities\")\n",
    "plt.title(\"Number of Restaurants Offering Vegetarian Friendly Menus in Each City\")\n",
    "plt.show()"
   ]
  },
  {
   "cell_type": "markdown",
   "metadata": {
    "colab_type": "text",
    "id": "U5onEkpakq7j"
   },
   "source": [
    "**Observation -**\n",
    "\n",
    "**Wellington has 80 restaurants which have Vegetarian Friendly** menus available.\n",
    "\n",
    "Edinburgh/Canberra have only 5 restaurants offering Vegetarian Friendly menus"
   ]
  },
  {
   "cell_type": "markdown",
   "metadata": {
    "colab_type": "text",
    "id": "FCWqGtSZlZ7J"
   },
   "source": [
    "### Visualisation 8 \n",
    "Total number of restaurants offering 'Table Reservation' in each city "
   ]
  },
  {
   "cell_type": "code",
   "execution_count": 0,
   "metadata": {
    "colab": {},
    "colab_type": "code",
    "id": "GRR7day7d2GV"
   },
   "outputs": [],
   "source": [
    "# 'Table Reservation' count\n",
    "count_table_reservation = restaurant_details[restaurant_details['Table Reservation'] == 'Yes'].groupby('City').count()['Restaurant ID']\n",
    "\n",
    "fig = plt.figure(figsize = (10,7))\n",
    "plt.barh(list(count_table_reservation.keys()), count_table_reservation.values, edgecolor = 'black', color = colors)\n",
    "plt.tight_layout()\n",
    "for index, value in enumerate(count_table_reservation.values):\n",
    "    plt.text(value, index, str(value), fontdict = font_horizontal)\n",
    "plt.xlabel(\"Count of Restaurants\")\n",
    "plt.ylabel(\"Cities\")\n",
    "plt.title(\"Number of Restaurants with Table Reservation Service in Cities\")\n",
    "plt.show()"
   ]
  },
  {
   "cell_type": "markdown",
   "metadata": {
    "colab_type": "text",
    "id": "03Vj8Wt6lqQw"
   },
   "source": [
    "**Observations -**\n",
    "\n",
    "**Delhi has 23 restuarnts which have the facility of 'Table Reservation' available** followed by 21 in Abu Dhabu.\n",
    "\n",
    "Dublin has only 1 restaurant out of 100 which offers 'Table Reservation'"
   ]
  },
  {
   "cell_type": "markdown",
   "metadata": {
    "colab_type": "text",
    "id": "a8HFSa3wp0wR"
   },
   "source": [
    "### Visualisation 9\n",
    "Box plot for 'Average cost for Two'"
   ]
  },
  {
   "cell_type": "code",
   "execution_count": 0,
   "metadata": {
    "colab": {},
    "colab_type": "code",
    "id": "jZZPuP4yedNP"
   },
   "outputs": [],
   "source": [
    "data_for_boxplot = pd.DataFrame(columns = restaurant_details.columns)\n",
    "for city in cities:\n",
    "  data_for_boxplot = data_for_boxplot.append(restaurant_details[(restaurant_details['City'] == city) & (restaurant_details['Cuisines'].str.contains(list(max_cuisine_dict_ordered.keys())[cities.index(city)].split(\",\")[1]))])\n",
    "\n",
    "data_for_boxplot\n",
    "\n",
    "fig, axx = plt.subplots(figsize=(20,10))\n",
    "sns.boxplot(x = 'City', y = 'Average Cost for Two (in Euros)', data = data_for_boxplot)"
   ]
  },
  {
   "cell_type": "markdown",
   "metadata": {
    "colab_type": "text",
    "id": "BpuPKKADl8rc"
   },
   "source": [
    "**Observations -**\n",
    "\n",
    "1. The 'Average cost for Two' in Belfast and Canberra restaurants are observed to be less distributed. Since for Canberra, 100% results lie between 10-15 Euros and for Belfast, all the results lie in the same range\n",
    "2. Dublin and Ottawa have similar kind of distributions (with the only excpetion of two outliers in Ottawa), almost half values lie at the median. \n",
    "3. Washington has highly distributed values with only few values lying in the first quartile. "
   ]
  },
  {
   "cell_type": "markdown",
   "metadata": {
    "colab_type": "text",
    "id": "VVL5Uc6SmiwX"
   },
   "source": [
    "### Visualisation 10\n",
    "Total number of restaurants satisfying a particular criteria in 5 cities\n",
    "\n",
    "Criteria -\n",
    "1. Aggregate rating >=4.7\n",
    "2. Payment mode includes 'Credit card'\n",
    "3. Should Serve Alcohol\n",
    "4. Cities - 'London', 'Washington', 'Rome', 'Ottawa', 'Wellington'\n",
    "\n",
    "\n",
    "\n"
   ]
  },
  {
   "cell_type": "code",
   "execution_count": 0,
   "metadata": {
    "colab": {},
    "colab_type": "code",
    "id": "ozaPp_57eQt8"
   },
   "outputs": [],
   "source": [
    "count_fitered_restaurants = []\n",
    "filtered_cities = ['London', 'Washington', 'Rome', 'Ottawa', 'Wellington']\n",
    "for city in filtered_cities:\n",
    "  results = restaurant_details[(restaurant_details['Aggregate Rating'] >= 4.7) & (restaurant_details['Payment Modes'].str.contains('Credit Card')) & (restaurant_details['Serves Alcohol'] == 'Yes') & (restaurant_details['City'] == city) & (restaurant_details['Cuisines'].str.contains(list(max_cuisine_dict_ordered.keys())[cities.index(city)].split(\",\")[1]))]\n",
    "  count_fitered_restaurants.append(len(results))\n",
    "\n",
    "fig = plt.figure(figsize = (5,5))\n",
    "plt.bar(filtered_cities, count_fitered_restaurants, color = colors)\n",
    "plt.tight_layout()\n",
    "for index, value in zip(range(0,len(count_fitered_restaurants)), count_fitered_restaurants):\n",
    "    plt.annotate(value, (index, value), textcoords=\"offset points\", xytext=(0,5), ha='center')\n",
    "plt.xlabel(\"Cities\")\n",
    "plt.ylabel(\"Count of Restaurants\")\n",
    "plt.title(\"Number of Restaurants with Specific Criteria in Different Cities\")\n",
    "plt.show()"
   ]
  },
  {
   "cell_type": "markdown",
   "metadata": {
    "colab_type": "text",
    "id": "N9vbP01-l3FA"
   },
   "source": [
    "**Observations -**\n",
    "\n",
    "There are **7 restuarants in London offered by Zomato which have satisifed the following criteria** -\n",
    "\n",
    "1. Aggregate rating >=4.7\n",
    "2. Payment mode includes 'Credit card'\n",
    "3. Should Serve Alcohol\n",
    "\n",
    "Only 1 restaurants in Wellington has satisfied the above criteria\n",
    "\n"
   ]
  },
  {
   "cell_type": "markdown",
   "metadata": {
    "colab_type": "text",
    "id": "0zQGnU4Ho5MK"
   },
   "source": [
    "### Visualisation 11\n",
    "Average cost v/s Aggregate rating"
   ]
  },
  {
   "cell_type": "code",
   "execution_count": 0,
   "metadata": {
    "colab": {},
    "colab_type": "code",
    "id": "cIQ5aF0beagp"
   },
   "outputs": [],
   "source": [
    "delhi_restaurants = restaurant_details[restaurant_details['City'] == 'Delhi']\n",
    "ax = sns.regplot(x = 'Average Cost for Two (in Euros)', y = 'Aggregate Rating', data = delhi_restaurants)"
   ]
  },
  {
   "cell_type": "markdown",
   "metadata": {
    "colab_type": "text",
    "id": "SU2YgpKLl6Cv"
   },
   "source": [
    "**Observations -**\n",
    "Particulary for Delhi, 'Aggregate rating' is correlated with 'Average cost for Two'. This means restaurants with higher prices have good ratings."
   ]
  },
  {
   "cell_type": "markdown",
   "metadata": {
    "colab_type": "text",
    "id": "hfHH1NUPoGPL"
   },
   "source": [
    "### Visualisation 12\n",
    "Number of Restaurants with Aggregate Rating >= 4.5 for Each City"
   ]
  },
  {
   "cell_type": "code",
   "execution_count": 0,
   "metadata": {
    "colab": {},
    "colab_type": "code",
    "id": "I1OweAjgeVds"
   },
   "outputs": [],
   "source": [
    "count_aggregate_ratings = {}\n",
    "for city in cities:\n",
    "  results = restaurant_details[(restaurant_details['Aggregate Rating'] >= 4.5) & (restaurant_details['City'] == city)]\n",
    "  count_aggregate_ratings[city] = len(results)\n",
    "  fig = plt.figure(figsize = (6,6))\n",
    "plt.barh(list(count_aggregate_ratings.keys()), count_aggregate_ratings.values(), color = colors)\n",
    "plt.tight_layout()\n",
    "for index, value in enumerate(count_aggregate_ratings.values()):\n",
    "    plt.text(value, index, str(value), fontdict = font_horizontal)\n",
    "plt.xlabel(\"Count of Restaurants\")\n",
    "plt.ylabel(\"Cities\")\n",
    "plt.title(\"Number of Restaurants with Aggregate Rating >= 4.5 for Each City\")\n",
    "plt.show()"
   ]
  },
  {
   "cell_type": "markdown",
   "metadata": {
    "colab_type": "text",
    "id": "EvbY3qUBl4JF"
   },
   "source": [
    "**Observations -**\n",
    "\n",
    "From Visualisation 6, it is observed -\n",
    "\n",
    "1. Delhi has 36711 restaurants \n",
    "2. London has 28708 restaurants\n",
    "3. Canberra has only 1060 restaurants\n",
    "4. Belfast has 1080 restaurants\n",
    "\n",
    "From above bar chart, it is observed -\n",
    "1. Out of 36711 restaurants in Delhi, Only 18 resturants have an Average Rating>=4.5\n",
    "2. Out of 28708 restaurants in London, Only 74 resturants have an Average Rating>=4.5\n",
    "3. Out of 1060 restaurants in Canberra, Only 11 resturants have an Average Rating>=4.5\n",
    "4. Out of 1080 restaurants in Belfast, Only 2 resturants have an Average Rating>=4.5"
   ]
  },
  {
   "cell_type": "markdown",
   "metadata": {
    "colab_type": "text",
    "id": "5iMCDoKcrAbs"
   },
   "source": [
    "### Visualisation 13\n",
    "Word Cloud is created for reviews of Highly rated and worst rated restaurant in Delhi.\n",
    "Both the API's data (Restaurant details and review details) is used together -\n",
    "1. Using the restaurant details, highly and worst rated restaurants are determined by using 'Aggregate rating' attribute first.\n",
    "2. There can be multiple restaurants which have the same value for 'Aggregate rating'. In that case, review count is considered. The one which has higher 'Review Count' is considered as Highly rated \n",
    "3. Using the restaurant id, Reviews_data is parsed and all the reviews correspoding to the id is collected.\n"
   ]
  },
  {
   "cell_type": "code",
   "execution_count": 0,
   "metadata": {
    "colab": {},
    "colab_type": "code",
    "id": "HegceMMVxjM9"
   },
   "outputs": [],
   "source": [
    "#Removing stopwords\n",
    "stopwords = set(STOPWORDS)\n",
    "stopwords.add(\"Specified'\".lower())\n",
    "stopwords.add(\"'Not\".lower())\n",
    "for restaurant in listToString(list(review_details['Restaurant Name'])).split(','):\n",
    "  if restaurant.find(' ') >= 0:\n",
    "    for word in restaurant.split(' '):\n",
    "      stopwords.add(word.lower().strip())\n",
    "  else:\n",
    "    stopwords.add(restaurant.lower().strip())"
   ]
  },
  {
   "cell_type": "code",
   "execution_count": 0,
   "metadata": {
    "colab": {},
    "colab_type": "code",
    "id": "Hnk_yga5xlgu"
   },
   "outputs": [],
   "source": [
    "#Function to display WordCloud\n",
    "def show_wordcloud(data, title = None):\n",
    "  wordcloud = WordCloud(\n",
    "    background_color='white',\n",
    "    stopwords=stopwords,\n",
    "    max_words=50,\n",
    "    max_font_size=40,\n",
    "    scale=3,\n",
    "    random_state=1 # chosen at random by flipping a coin; it was heads\n",
    "  ).generate(str(data).lower())\n",
    "\n",
    "  print(wordcloud.words_)\n",
    "  fig = plt.figure(1, figsize=(12, 12))\n",
    "  plt.axis('off')\n",
    "  if title: \n",
    "    fig.suptitle(title, fontsize=20)\n",
    "    fig.subplots_adjust(top=2.3)\n",
    "\n",
    "  plt.imshow(wordcloud)\n",
    "  plt.show()"
   ]
  },
  {
   "cell_type": "code",
   "execution_count": 0,
   "metadata": {
    "colab": {},
    "colab_type": "code",
    "id": "ydVTQvtu5iJu"
   },
   "outputs": [],
   "source": [
    "# Code to get the highly rated and the worst rated restaurants in Delhi\n",
    "  highly_rated_restaurant_in_delhi = restaurant_details[restaurant_details['City'] == 'Delhi'].sort_values(by = ['Aggregate Rating', 'Reviews Count'], ascending = False)['Restaurant Name'].iloc[0]\n",
    "  worst_rated_restaurant_in_delhi = restaurant_details[restaurant_details['City'] == 'Delhi'].sort_values(by = ['Aggregate Rating', 'Reviews Count'], ascending = True)['Restaurant Name'].iloc[0]\n"
   ]
  },
  {
   "cell_type": "code",
   "execution_count": 0,
   "metadata": {
    "colab": {},
    "colab_type": "code",
    "id": "qFcJatvOh6rZ"
   },
   "outputs": [],
   "source": [
    "highly_rated_restaurant_in_delhi"
   ]
  },
  {
   "cell_type": "code",
   "execution_count": 0,
   "metadata": {
    "colab": {},
    "colab_type": "code",
    "id": "WGYaEfNLeJ_p"
   },
   "outputs": [],
   "source": [
    "show_wordcloud(list(review_details[(review_details['City'] == 'Delhi') & (review_details['Restaurant Name'] == highly_rated_restaurant_in_delhi)]['Review Text']), \"Highly Rated Restaurant's Reviews in Dublin\")"
   ]
  },
  {
   "cell_type": "code",
   "execution_count": 0,
   "metadata": {
    "colab": {},
    "colab_type": "code",
    "id": "2upRenlxx_eT"
   },
   "outputs": [],
   "source": [
    "worst_rated_restaurant_in_delhi"
   ]
  },
  {
   "cell_type": "code",
   "execution_count": 0,
   "metadata": {
    "colab": {},
    "colab_type": "code",
    "id": "qn2nNB94yBuG"
   },
   "outputs": [],
   "source": [
    "show_wordcloud(list(review_details[(review_details['City'] == 'Delhi') & (review_details['Restaurant Name'] == worst_rated_restaurant_in_delhi)]['Review Text']), \"Worst Rated Restaurant's Reviews in Dublin\")"
   ]
  },
  {
   "cell_type": "markdown",
   "metadata": {
    "colab_type": "text",
    "id": "oG3kDYpd62lY"
   },
   "source": [
    "## Conclusion"
   ]
  },
  {
   "cell_type": "markdown",
   "metadata": {
    "colab_type": "text",
    "id": "G-LxWOPzF9Fh"
   },
   "source": [
    "Using the above analysis on Zomato's API, following observations have been made -\n",
    "For Zomato staff\n",
    "1. Delhi has the highest number of restaurants and Canberra has the lowest number of restaurants available in Zomato \n",
    "2. Only 2 cities have 'Online Delivery' option available - Abu Dhabi and Dubai\n",
    "3. Prague has most restaurants offering takeaways. Belfast has very few restaurants offering takeaways\n",
    "4. Wellington has many restaurants offering vegetarian menu, while Edinburgh and Canberra have very few restaurants offering vegetarian menu\n",
    "5. Dublin has only 1 resturant out of 100 restaurants which offers Table reservation.\n",
    "6. In Euros, average cost for 2 people is very high in Washington, Singapore and London. It's very low in Delhi [Reason can be low value of currency]\n",
    "7. Most of the restaurants have credit card as a payment method.\n",
    "8. Although Delhi has the highest number of restaurants, only 18 restuarants have an average rating >=4.5\n",
    "9. In some way, Aggregate rating is correlated with Average cost for 2. This means restaurants with higher prices have good ratings.\n",
    "10. Most popular cuisines in each of the 15 cities \n",
    "\n",
    "    * 'Abu Dhabi': 'Indian',\n",
    "    * 'Belfast': 'British',\n",
    "    * 'Canberra': 'Tea',\n",
    "    * 'Delhi': 'Indian',\n",
    "    * 'Dublin': 'European',\n",
    "    * 'Edinburgh': 'Scottish',\n",
    "    * 'Lisbon': \"Italian\",\n",
    "    * 'London': 'British',\n",
    "    * 'Ottawa': 'Canadian',\n",
    "    * 'Prague': 'Czech',\n",
    "    * 'Rome': 'Italian',\n",
    "    * 'Singapore': 'American',\n",
    "    * 'Warsaw': 'European',\n",
    "    * 'Washington': 'American',\n",
    "    * 'Wellington': 'Cafe Food'\n",
    "\n",
    "11. Highly rated restaurants in each city \n",
    "\n",
    "    * 'Abu Dhabi': \"Max's Restaurant\",\n",
    "    * 'Belfast': 'Mourne Seafood Bar',\n",
    "    * 'Canberra': 'The Cupping Room',\n",
    "    * 'Delhi': 'Ah So Yum',\n",
    "    * 'Dublin': 'Brother Hubbard',\n",
    "    * 'Edinburgh': 'Vietnam House Restaurant & Gallery',\n",
    "    * 'Lisbon': \"Forno d'Oro\",\n",
    "    * 'London': 'Duck & Waffle',\n",
    "    * 'Ottawa': 'Fraser Café',\n",
    "    * 'Prague': 'Café Imperial',\n",
    "    * 'Rome': 'Grazia & Graziella',\n",
    "    * 'Singapore': 'Lau Pa Sat',\n",
    "    * 'Warsaw': 'Uki Uki',\n",
    "    * 'Washington': 'Founding Farmers - D.C.',\n",
    "    * 'Wellington': 'Ombra'\n",
    "\n",
    "12. Worst rated restaurants in each city\n",
    "\n",
    "    * 'Abu Dhabi': 'Pizza Hut',\n",
    "    * 'Belfast': 'Wagamama',\n",
    "    * 'Canberra': 'The Merchant',\n",
    "    * 'Delhi': 'Sunil Momos.com',\n",
    "    * 'Dublin': \"Ravi's Kitchen\",\n",
    "    * 'Edinburgh': 'Noks Kitchen',\n",
    "    * 'Lisbon': 'The Great American Disaster',\n",
    "    * 'London': 'The Big Easy',\n",
    "    * 'Ottawa': 'TacoLot',\n",
    "    * 'Prague': 'Hadovka restaurant',\n",
    "    * 'Rome': 'Bread & Break',\n",
    "    * 'Singapore': 'Gastrosmiths',\n",
    "    * 'Warsaw': 'Frida',\n",
    "    * 'Washington': 'RPM Italian',\n",
    "    * 'Wellington': 'Thunderbird Cafe'\n",
    "\n",
    "Further analysis that can be done -\n",
    "\n",
    "- This analysis can be further enhanced to include all cities for all countries. \n",
    "\n",
    "- For Zomato owners, further analysis on type of responses in each city can help them to expand their business model\n",
    "\n",
    "- For travellers who are travelling to different countries, they can use the different visualisations to decide the type of cuisine and restaurants to choose, based on popularity and rating \n",
    "\n",
    "\n"
   ]
  }
 ],
 "metadata": {
  "colab": {
   "collapsed_sections": [],
   "name": "Untitled3.ipynb",
   "provenance": []
  },
  "kernelspec": {
   "display_name": "Python 3",
   "language": "python",
   "name": "python3"
  },
  "language_info": {
   "codemirror_mode": {
    "name": "ipython",
    "version": 3
   },
   "file_extension": ".py",
   "mimetype": "text/x-python",
   "name": "python",
   "nbconvert_exporter": "python",
   "pygments_lexer": "ipython3",
   "version": "3.7.3"
  }
 },
 "nbformat": 4,
 "nbformat_minor": 1
}
